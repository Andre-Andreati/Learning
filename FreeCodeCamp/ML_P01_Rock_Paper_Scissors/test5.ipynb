{
 "cells": [
  {
   "cell_type": "code",
   "execution_count": 137,
   "metadata": {},
   "outputs": [],
   "source": [
    "import itertools as it\n",
    "import numpy as np\n",
    "import tensorflow as tf\n",
    "\n",
    "from tensorflow.keras import layers"
   ]
  },
  {
   "cell_type": "markdown",
   "metadata": {},
   "source": [
    "Possible strategies:\n",
    "        -- Need to be observed to counter:\n",
    "\n",
    "- fixed sequence of 'n' moves\n",
    "        -- previous 'n'+1 moves\n",
    "\n",
    "- (opponent's / self's) last 'n'[0-10] moves\n",
    "        -- previous n moves\n",
    "\n",
    "- (opponent's / self's) most common move in the last 'n'[2-1000] matches\n",
    "        -- ...\n",
    "\n",
    "- (opponent's / self's) most common 'm-moves'[2-10] sequence in the last 'n'[2-1000] matches\n",
    "        -- ..."
   ]
  },
  {
   "cell_type": "code",
   "execution_count": 138,
   "metadata": {},
   "outputs": [],
   "source": [
    "#variables:\n",
    "num = 10 #number of previous matches to analyze\n",
    "seq_size = range(2, 6) #sequence sizes to test\n",
    "matches_range = [5, 10] #number of previous matches to look for moves\n",
    "length = max(num, max(seq_size), max(matches_range)) + 1 #length of timestep to analize. +1 for the move to predict"
   ]
  },
  {
   "cell_type": "code",
   "execution_count": 139,
   "metadata": {},
   "outputs": [],
   "source": [
    "## Some functions that will be used in the main script ##\n",
    "\n",
    "#function for counting the number of occurences of a substring in a string\n",
    "def count_substring(s, sub):\n",
    "    # Initialize count to zero\n",
    "    cnt = 0\n",
    "\n",
    "    # Iterate through the string to check for the substring\n",
    "    for i in range(len(s) - len(sub) + 1):\n",
    "        if s[i:i + len(sub)] == sub:  # If substring matches, increment count\n",
    "            cnt += 1\n",
    "    return cnt"
   ]
  },
  {
   "cell_type": "code",
   "execution_count": 140,
   "metadata": {},
   "outputs": [
    {
     "data": {
      "text/plain": [
       "'RPSRPSRPSRPSRPSRPSRPSRPSRPSRPSRPSRPSRPSRPSRPSRPSRPSRPSRPSRPSRPSRPSRPSRPSRPSRPSRPSRPSRPSRPS'"
      ]
     },
     "execution_count": 140,
     "metadata": {},
     "output_type": "execute_result"
    }
   ],
   "source": [
    "opponent_hist = \"RRRPPPSSS\" * 10\n",
    "player_hist = \"RPS\" * 30\n",
    "player_hist"
   ]
  },
  {
   "cell_type": "code",
   "execution_count": null,
   "metadata": {},
   "outputs": [
    {
     "data": {
      "text/plain": [
       "array(['P', 'R', 'S'], dtype='<U1')"
      ]
     },
     "execution_count": 141,
     "metadata": {},
     "output_type": "execute_result"
    }
   ],
   "source": [
    "vocab_moves = sorted(['R', 'P', 'S'])\n",
    "# Creating a mapping from unique characters to indices\n",
    "'''char2idx = {u:i for i, u in enumerate(vocab_moves)}\n",
    "idx2char = np.array(vocab_moves)\n",
    "\n",
    "def text_to_int(text):\n",
    "  return [char2idx[c] for c in text]\n",
    "\n",
    "def int_to_text(ints):\n",
    "  return ''.join(idx2char[ints])\n",
    "\n",
    "idx2char'''"
   ]
  },
  {
   "cell_type": "code",
   "execution_count": 142,
   "metadata": {},
   "outputs": [],
   "source": [
    "#vocab of sequences with 2-5 elements\n",
    "vocab_seq = {}\n",
    "for i in seq_size:\n",
    "  vocab_seq[i] = []\n",
    "  for seq in it.product(vocab_moves, repeat=i):\n",
    "    vocab_seq[i].append(''.join(seq))\n",
    "\n",
    "#full vocabulary\n",
    "vocab = vocab_moves.copy()\n",
    "for i in seq_size:\n",
    "  for seq in it.product(vocab_moves, repeat=i):\n",
    "    vocab.append(''.join(seq))\n",
    "\n",
    "def int_encoding(text):\n",
    "  return vocab.index(text)\n",
    "\n",
    "def int_decoding(ints):\n",
    "  return vocab[ints]\n",
    "\n",
    "def text_to_int(text):\n",
    "  return [int_encoding(c) for c in text]\n",
    "\n",
    "def int_to_text(ints):\n",
    "  return ''.join([int_decoding(i) for i in ints])"
   ]
  },
  {
   "cell_type": "code",
   "execution_count": null,
   "metadata": {},
   "outputs": [
    {
     "name": "stdout",
     "output_type": "stream",
     "text": [
      "\n",
      "FEATURES:  [2, 2, 2, 0, 0, 0, 1, 1, 1, 2, 2, 0, 1, 2, 0, 1, 2, 0, 1, 2, 1, 1, 2, 2, 0, 2, 11, 38, 65, 146, 5, 23, 104, 185, 11, 3, 14, 25, 47, 47, 146, 146, 5, 10, 33, 33, 60, 104, 185, 222, 3, 25, 47, 146, 5, 23, 73, 222]\n"
     ]
    }
   ],
   "source": [
    "def get_features(seq, encoded=True):\n",
    "\n",
    "    opponent_hist = seq[: len(seq)//2]\n",
    "    player_hist = seq[len(seq)//2 :]\n",
    "    #print('opponent_hist: ', opponent_hist)\n",
    "    #print('player_hist  : ', player_hist)\n",
    "\n",
    "    #opponent's and player's last 'i'th move in the last 'num' matches:\n",
    "    op_last_move = [opponent_hist[-i - 1] for i in range(num)] #[op last move, op 2nd last move, ..., op length'th last move]\n",
    "    pl_last_move = [player_hist[-i - 1] for i in range(num)] #[pl last move, pl 2nd last move, ..., pl length'th last move]\n",
    "    last_move = op_last_move + pl_last_move\n",
    "    #print('last_move: ', last_move)\n",
    "\n",
    "    #opponent's and player's most common move:\n",
    "    op_common_all = max(set(vocab_moves), key = lambda x: count_substring(opponent_hist, x))\n",
    "    pl_common_all = max(set(vocab_moves), key = lambda x: count_substring(player_hist, x))\n",
    "    common_all = [op_common_all, pl_common_all]\n",
    "    #print('common_all: ', common_all)\n",
    "\n",
    "    #opponent's and player's most common move in the last 'matches_range' moves:\n",
    "    op_common = []\n",
    "    pl_common = []\n",
    "    for i in matches_range:\n",
    "        os = opponent_hist[-i :]\n",
    "        op_common.append(max(set(os), key = lambda x: count_substring(os, x)))\n",
    "        ps = player_hist[-i :]\n",
    "        pl_common.append(max(set(ps), key = lambda x: count_substring(ps, x)))\n",
    "    common = op_common + pl_common\n",
    "    #print('common: ', common)\n",
    "    \n",
    "    #opponent's and player's last sequences of 'seq_size' moves:\n",
    "    op_last_seq = [opponent_hist[-i :] for i in seq_size]\n",
    "    pl_last_seq = [player_hist[-i :] for i in seq_size]\n",
    "    last_seq = op_last_seq + pl_last_seq\n",
    "    #print('last_seq: ', last_seq)\n",
    "\n",
    "    #opponent's and player's most common sequence of 'seq_size' moves in the last 'matches_range' matches\n",
    "    op_common_seq = []\n",
    "    pl_common_seq = []\n",
    "    for i in seq_size:\n",
    "        for j in matches_range:\n",
    "            os = opponent_hist[-j :]\n",
    "            op_common_seq.append(max(set(vocab_seq[i]), key = lambda x: count_substring(os, x)))\n",
    "            ps = player_hist[-j :]\n",
    "            pl_common_seq.append(max(set(vocab_seq[i]), key = lambda x: count_substring(ps, x)))\n",
    "    common_seq = op_common_seq + pl_common_seq\n",
    "    #print('common_seq: ', common_seq)\n",
    "\n",
    "    #opponent's and player's most common sequence of 'seq_size' moves in all matches\n",
    "    op_common_seq_all = []\n",
    "    pl_common_seq_all = []\n",
    "    for i in seq_size:\n",
    "        op_common_seq_all.append(max(set(vocab_seq[i]), key = lambda x: count_substring(opponent_hist, x)))\n",
    "        pl_common_seq_all.append(max(set(vocab_seq[i]), key = lambda x: count_substring(player_hist, x)))\n",
    "    common_seq_all = op_common_seq_all + pl_common_seq_all\n",
    "    #print('common_seq_all: ', common_seq_all)\n",
    "\n",
    "    features = last_move + common_all + common + last_seq + common_seq + common_seq_all\n",
    "    if encoded:\n",
    "        features = [int_encoding(f) for f in features]\n",
    "    return features\n",
    "\n",
    "features_example = get_features(opponent_hist + player_hist)\n",
    "print('\\nFEATURES: ', features_example)"
   ]
  },
  {
   "cell_type": "code",
   "execution_count": null,
   "metadata": {},
   "outputs": [],
   "source": [
    "def get_features_from_timestep(timestep, encoded=True): #timestep is a list of all opponent's and player's moves\n",
    "    opponent_hist = timestep[: len(timestep)//2 - 1]\n",
    "    player_hist = timestep[len(timestep)//2 : -1]\n",
    "    seq = opponent_hist + player_hist\n",
    "    features = get_features(seq, encoded)\n",
    "    return features"
   ]
  },
  {
   "cell_type": "code",
   "execution_count": null,
   "metadata": {},
   "outputs": [
    {
     "name": "stdout",
     "output_type": "stream",
     "text": [
      "LABEL:  2\n"
     ]
    }
   ],
   "source": [
    "def get_label(timestep, encoded=True):\n",
    "    opponent_hist = timestep[: len(timestep)//2]\n",
    "    label = opponent_hist[-1]\n",
    "    if encoded:\n",
    "        label = int_encoding(label)\n",
    "    return label\n",
    "\n",
    "label_example = get_label(opponent_hist + player_hist)\n",
    "print('LABEL: ', label_example)"
   ]
  },
  {
   "cell_type": "code",
   "execution_count": null,
   "metadata": {},
   "outputs": [
    {
     "name": "stdout",
     "output_type": "stream",
     "text": [
      "['RRRPPPSSSRRRPSRPSRPSRP', 'RRRPPPSSSRRRRPSRPSRPSRPS', 'RRRPPPSSSRRRPRPSRPSRPSRPSR', 'RRRPPPSSSRRRPPRPSRPSRPSRPSRP', 'RRRPPPSSSRRRPPPRPSRPSRPSRPSRPS', 'RRRPPPSSSRRRPPPSRPSRPSRPSRPSRPSR', 'RRRPPPSSSRRRPPPSSRPSRPSRPSRPSRPSRP', 'RRRPPPSSSRRRPPPSSSRPSRPSRPSRPSRPSRPS', 'RRRPPPSSSRRRPPPSSSRRPSRPSRPSRPSRPSRPSR', 'RRRPPPSSSRRRPPPSSSRRRPSRPSRPSRPSRPSRPSRP', 'RRRPPPSSSRRRPPPSSSRRRRPSRPSRPSRPSRPSRPSRPS', 'RRRPPPSSSRRRPPPSSSRRRPRPSRPSRPSRPSRPSRPSRPSR', 'RRRPPPSSSRRRPPPSSSRRRPPRPSRPSRPSRPSRPSRPSRPSRP', 'RRRPPPSSSRRRPPPSSSRRRPPPRPSRPSRPSRPSRPSRPSRPSRPS', 'RRRPPPSSSRRRPPPSSSRRRPPPSRPSRPSRPSRPSRPSRPSRPSRPSR', 'RRRPPPSSSRRRPPPSSSRRRPPPSSRPSRPSRPSRPSRPSRPSRPSRPSRP', 'RRRPPPSSSRRRPPPSSSRRRPPPSSSRPSRPSRPSRPSRPSRPSRPSRPSRPS', 'RRRPPPSSSRRRPPPSSSRRRPPPSSSRRPSRPSRPSRPSRPSRPSRPSRPSRPSR', 'RRRPPPSSSRRRPPPSSSRRRPPPSSSRRRPSRPSRPSRPSRPSRPSRPSRPSRPSRP', 'RRRPPPSSSRRRPPPSSSRRRPPPSSSRRRRPSRPSRPSRPSRPSRPSRPSRPSRPSRPS', 'RRRPPPSSSRRRPPPSSSRRRPPPSSSRRRPRPSRPSRPSRPSRPSRPSRPSRPSRPSRPSR', 'RRRPPPSSSRRRPPPSSSRRRPPPSSSRRRPPRPSRPSRPSRPSRPSRPSRPSRPSRPSRPSRP', 'RRRPPPSSSRRRPPPSSSRRRPPPSSSRRRPPPRPSRPSRPSRPSRPSRPSRPSRPSRPSRPSRPS', 'RRRPPPSSSRRRPPPSSSRRRPPPSSSRRRPPPSRPSRPSRPSRPSRPSRPSRPSRPSRPSRPSRPSR', 'RRRPPPSSSRRRPPPSSSRRRPPPSSSRRRPPPSSRPSRPSRPSRPSRPSRPSRPSRPSRPSRPSRPSRP', 'RRRPPPSSSRRRPPPSSSRRRPPPSSSRRRPPPSSSRPSRPSRPSRPSRPSRPSRPSRPSRPSRPSRPSRPS', 'RRRPPPSSSRRRPPPSSSRRRPPPSSSRRRPPPSSSRRPSRPSRPSRPSRPSRPSRPSRPSRPSRPSRPSRPSR', 'RRRPPPSSSRRRPPPSSSRRRPPPSSSRRRPPPSSSRRRPSRPSRPSRPSRPSRPSRPSRPSRPSRPSRPSRPSRP', 'RRRPPPSSSRRRPPPSSSRRRPPPSSSRRRPPPSSSRRRRPSRPSRPSRPSRPSRPSRPSRPSRPSRPSRPSRPSRPS', 'RRRPPPSSSRRRPPPSSSRRRPPPSSSRRRPPPSSSRRRPRPSRPSRPSRPSRPSRPSRPSRPSRPSRPSRPSRPSRPSR', 'RRRPPPSSSRRRPPPSSSRRRPPPSSSRRRPPPSSSRRRPPRPSRPSRPSRPSRPSRPSRPSRPSRPSRPSRPSRPSRPSRP', 'RRRPPPSSSRRRPPPSSSRRRPPPSSSRRRPPPSSSRRRPPPRPSRPSRPSRPSRPSRPSRPSRPSRPSRPSRPSRPSRPSRPS', 'RRRPPPSSSRRRPPPSSSRRRPPPSSSRRRPPPSSSRRRPPPSRPSRPSRPSRPSRPSRPSRPSRPSRPSRPSRPSRPSRPSRPSR', 'RRRPPPSSSRRRPPPSSSRRRPPPSSSRRRPPPSSSRRRPPPSSRPSRPSRPSRPSRPSRPSRPSRPSRPSRPSRPSRPSRPSRPSRP', 'RRRPPPSSSRRRPPPSSSRRRPPPSSSRRRPPPSSSRRRPPPSSSRPSRPSRPSRPSRPSRPSRPSRPSRPSRPSRPSRPSRPSRPSRPS', 'RRRPPPSSSRRRPPPSSSRRRPPPSSSRRRPPPSSSRRRPPPSSSRRPSRPSRPSRPSRPSRPSRPSRPSRPSRPSRPSRPSRPSRPSRPSR', 'RRRPPPSSSRRRPPPSSSRRRPPPSSSRRRPPPSSSRRRPPPSSSRRRPSRPSRPSRPSRPSRPSRPSRPSRPSRPSRPSRPSRPSRPSRPSRP', 'RRRPPPSSSRRRPPPSSSRRRPPPSSSRRRPPPSSSRRRPPPSSSRRRRPSRPSRPSRPSRPSRPSRPSRPSRPSRPSRPSRPSRPSRPSRPSRPS', 'RRRPPPSSSRRRPPPSSSRRRPPPSSSRRRPPPSSSRRRPPPSSSRRRPRPSRPSRPSRPSRPSRPSRPSRPSRPSRPSRPSRPSRPSRPSRPSRPSR', 'RRRPPPSSSRRRPPPSSSRRRPPPSSSRRRPPPSSSRRRPPPSSSRRRPPRPSRPSRPSRPSRPSRPSRPSRPSRPSRPSRPSRPSRPSRPSRPSRPSRP', 'RRRPPPSSSRRRPPPSSSRRRPPPSSSRRRPPPSSSRRRPPPSSSRRRPPPRPSRPSRPSRPSRPSRPSRPSRPSRPSRPSRPSRPSRPSRPSRPSRPSRPS', 'RRRPPPSSSRRRPPPSSSRRRPPPSSSRRRPPPSSSRRRPPPSSSRRRPPPSRPSRPSRPSRPSRPSRPSRPSRPSRPSRPSRPSRPSRPSRPSRPSRPSRPSR', 'RRRPPPSSSRRRPPPSSSRRRPPPSSSRRRPPPSSSRRRPPPSSSRRRPPPSSRPSRPSRPSRPSRPSRPSRPSRPSRPSRPSRPSRPSRPSRPSRPSRPSRPSRP', 'RRRPPPSSSRRRPPPSSSRRRPPPSSSRRRPPPSSSRRRPPPSSSRRRPPPSSSRPSRPSRPSRPSRPSRPSRPSRPSRPSRPSRPSRPSRPSRPSRPSRPSRPSRPS', 'RRRPPPSSSRRRPPPSSSRRRPPPSSSRRRPPPSSSRRRPPPSSSRRRPPPSSSRRPSRPSRPSRPSRPSRPSRPSRPSRPSRPSRPSRPSRPSRPSRPSRPSRPSRPSR', 'RRRPPPSSSRRRPPPSSSRRRPPPSSSRRRPPPSSSRRRPPPSSSRRRPPPSSSRRRPSRPSRPSRPSRPSRPSRPSRPSRPSRPSRPSRPSRPSRPSRPSRPSRPSRPSRP', 'RRRPPPSSSRRRPPPSSSRRRPPPSSSRRRPPPSSSRRRPPPSSSRRRPPPSSSRRRRPSRPSRPSRPSRPSRPSRPSRPSRPSRPSRPSRPSRPSRPSRPSRPSRPSRPSRPS', 'RRRPPPSSSRRRPPPSSSRRRPPPSSSRRRPPPSSSRRRPPPSSSRRRPPPSSSRRRPRPSRPSRPSRPSRPSRPSRPSRPSRPSRPSRPSRPSRPSRPSRPSRPSRPSRPSRPSR', 'RRRPPPSSSRRRPPPSSSRRRPPPSSSRRRPPPSSSRRRPPPSSSRRRPPPSSSRRRPPRPSRPSRPSRPSRPSRPSRPSRPSRPSRPSRPSRPSRPSRPSRPSRPSRPSRPSRPSRP', 'RRRPPPSSSRRRPPPSSSRRRPPPSSSRRRPPPSSSRRRPPPSSSRRRPPPSSSRRRPPPRPSRPSRPSRPSRPSRPSRPSRPSRPSRPSRPSRPSRPSRPSRPSRPSRPSRPSRPSRPS', 'RRRPPPSSSRRRPPPSSSRRRPPPSSSRRRPPPSSSRRRPPPSSSRRRPPPSSSRRRPPPSRPSRPSRPSRPSRPSRPSRPSRPSRPSRPSRPSRPSRPSRPSRPSRPSRPSRPSRPSRPSR', 'RRRPPPSSSRRRPPPSSSRRRPPPSSSRRRPPPSSSRRRPPPSSSRRRPPPSSSRRRPPPSSRPSRPSRPSRPSRPSRPSRPSRPSRPSRPSRPSRPSRPSRPSRPSRPSRPSRPSRPSRPSRP', 'RRRPPPSSSRRRPPPSSSRRRPPPSSSRRRPPPSSSRRRPPPSSSRRRPPPSSSRRRPPPSSSRPSRPSRPSRPSRPSRPSRPSRPSRPSRPSRPSRPSRPSRPSRPSRPSRPSRPSRPSRPSRPS', 'RRRPPPSSSRRRPPPSSSRRRPPPSSSRRRPPPSSSRRRPPPSSSRRRPPPSSSRRRPPPSSSRRPSRPSRPSRPSRPSRPSRPSRPSRPSRPSRPSRPSRPSRPSRPSRPSRPSRPSRPSRPSRPSR', 'RRRPPPSSSRRRPPPSSSRRRPPPSSSRRRPPPSSSRRRPPPSSSRRRPPPSSSRRRPPPSSSRRRPSRPSRPSRPSRPSRPSRPSRPSRPSRPSRPSRPSRPSRPSRPSRPSRPSRPSRPSRPSRPSRP', 'RRRPPPSSSRRRPPPSSSRRRPPPSSSRRRPPPSSSRRRPPPSSSRRRPPPSSSRRRPPPSSSRRRRPSRPSRPSRPSRPSRPSRPSRPSRPSRPSRPSRPSRPSRPSRPSRPSRPSRPSRPSRPSRPSRPS', 'RRRPPPSSSRRRPPPSSSRRRPPPSSSRRRPPPSSSRRRPPPSSSRRRPPPSSSRRRPPPSSSRRRPRPSRPSRPSRPSRPSRPSRPSRPSRPSRPSRPSRPSRPSRPSRPSRPSRPSRPSRPSRPSRPSRPSR', 'RRRPPPSSSRRRPPPSSSRRRPPPSSSRRRPPPSSSRRRPPPSSSRRRPPPSSSRRRPPPSSSRRRPPRPSRPSRPSRPSRPSRPSRPSRPSRPSRPSRPSRPSRPSRPSRPSRPSRPSRPSRPSRPSRPSRPSRP', 'RRRPPPSSSRRRPPPSSSRRRPPPSSSRRRPPPSSSRRRPPPSSSRRRPPPSSSRRRPPPSSSRRRPPPRPSRPSRPSRPSRPSRPSRPSRPSRPSRPSRPSRPSRPSRPSRPSRPSRPSRPSRPSRPSRPSRPSRPS', 'RRRPPPSSSRRRPPPSSSRRRPPPSSSRRRPPPSSSRRRPPPSSSRRRPPPSSSRRRPPPSSSRRRPPPSRPSRPSRPSRPSRPSRPSRPSRPSRPSRPSRPSRPSRPSRPSRPSRPSRPSRPSRPSRPSRPSRPSRPSR', 'RRRPPPSSSRRRPPPSSSRRRPPPSSSRRRPPPSSSRRRPPPSSSRRRPPPSSSRRRPPPSSSRRRPPPSSRPSRPSRPSRPSRPSRPSRPSRPSRPSRPSRPSRPSRPSRPSRPSRPSRPSRPSRPSRPSRPSRPSRPSRP', 'RRRPPPSSSRRRPPPSSSRRRPPPSSSRRRPPPSSSRRRPPPSSSRRRPPPSSSRRRPPPSSSRRRPPPSSSRPSRPSRPSRPSRPSRPSRPSRPSRPSRPSRPSRPSRPSRPSRPSRPSRPSRPSRPSRPSRPSRPSRPSRPS', 'RRRPPPSSSRRRPPPSSSRRRPPPSSSRRRPPPSSSRRRPPPSSSRRRPPPSSSRRRPPPSSSRRRPPPSSSRRPSRPSRPSRPSRPSRPSRPSRPSRPSRPSRPSRPSRPSRPSRPSRPSRPSRPSRPSRPSRPSRPSRPSRPSR', 'RRRPPPSSSRRRPPPSSSRRRPPPSSSRRRPPPSSSRRRPPPSSSRRRPPPSSSRRRPPPSSSRRRPPPSSSRRRPSRPSRPSRPSRPSRPSRPSRPSRPSRPSRPSRPSRPSRPSRPSRPSRPSRPSRPSRPSRPSRPSRPSRPSRP', 'RRRPPPSSSRRRPPPSSSRRRPPPSSSRRRPPPSSSRRRPPPSSSRRRPPPSSSRRRPPPSSSRRRPPPSSSRRRRPSRPSRPSRPSRPSRPSRPSRPSRPSRPSRPSRPSRPSRPSRPSRPSRPSRPSRPSRPSRPSRPSRPSRPSRPS', 'RRRPPPSSSRRRPPPSSSRRRPPPSSSRRRPPPSSSRRRPPPSSSRRRPPPSSSRRRPPPSSSRRRPPPSSSRRRPRPSRPSRPSRPSRPSRPSRPSRPSRPSRPSRPSRPSRPSRPSRPSRPSRPSRPSRPSRPSRPSRPSRPSRPSRPSR', 'RRRPPPSSSRRRPPPSSSRRRPPPSSSRRRPPPSSSRRRPPPSSSRRRPPPSSSRRRPPPSSSRRRPPPSSSRRRPPRPSRPSRPSRPSRPSRPSRPSRPSRPSRPSRPSRPSRPSRPSRPSRPSRPSRPSRPSRPSRPSRPSRPSRPSRPSRP', 'RRRPPPSSSRRRPPPSSSRRRPPPSSSRRRPPPSSSRRRPPPSSSRRRPPPSSSRRRPPPSSSRRRPPPSSSRRRPPPRPSRPSRPSRPSRPSRPSRPSRPSRPSRPSRPSRPSRPSRPSRPSRPSRPSRPSRPSRPSRPSRPSRPSRPSRPSRPS', 'RRRPPPSSSRRRPPPSSSRRRPPPSSSRRRPPPSSSRRRPPPSSSRRRPPPSSSRRRPPPSSSRRRPPPSSSRRRPPPSRPSRPSRPSRPSRPSRPSRPSRPSRPSRPSRPSRPSRPSRPSRPSRPSRPSRPSRPSRPSRPSRPSRPSRPSRPSRPSR', 'RRRPPPSSSRRRPPPSSSRRRPPPSSSRRRPPPSSSRRRPPPSSSRRRPPPSSSRRRPPPSSSRRRPPPSSSRRRPPPSSRPSRPSRPSRPSRPSRPSRPSRPSRPSRPSRPSRPSRPSRPSRPSRPSRPSRPSRPSRPSRPSRPSRPSRPSRPSRPSRP', 'RRRPPPSSSRRRPPPSSSRRRPPPSSSRRRPPPSSSRRRPPPSSSRRRPPPSSSRRRPPPSSSRRRPPPSSSRRRPPPSSSRPSRPSRPSRPSRPSRPSRPSRPSRPSRPSRPSRPSRPSRPSRPSRPSRPSRPSRPSRPSRPSRPSRPSRPSRPSRPSRPS', 'RRRPPPSSSRRRPPPSSSRRRPPPSSSRRRPPPSSSRRRPPPSSSRRRPPPSSSRRRPPPSSSRRRPPPSSSRRRPPPSSSRRPSRPSRPSRPSRPSRPSRPSRPSRPSRPSRPSRPSRPSRPSRPSRPSRPSRPSRPSRPSRPSRPSRPSRPSRPSRPSRPSR', 'RRRPPPSSSRRRPPPSSSRRRPPPSSSRRRPPPSSSRRRPPPSSSRRRPPPSSSRRRPPPSSSRRRPPPSSSRRRPPPSSSRRRPSRPSRPSRPSRPSRPSRPSRPSRPSRPSRPSRPSRPSRPSRPSRPSRPSRPSRPSRPSRPSRPSRPSRPSRPSRPSRPSRP', 'RRRPPPSSSRRRPPPSSSRRRPPPSSSRRRPPPSSSRRRPPPSSSRRRPPPSSSRRRPPPSSSRRRPPPSSSRRRPPPSSSRRRRPSRPSRPSRPSRPSRPSRPSRPSRPSRPSRPSRPSRPSRPSRPSRPSRPSRPSRPSRPSRPSRPSRPSRPSRPSRPSRPSRPS', 'RRRPPPSSSRRRPPPSSSRRRPPPSSSRRRPPPSSSRRRPPPSSSRRRPPPSSSRRRPPPSSSRRRPPPSSSRRRPPPSSSRRRPRPSRPSRPSRPSRPSRPSRPSRPSRPSRPSRPSRPSRPSRPSRPSRPSRPSRPSRPSRPSRPSRPSRPSRPSRPSRPSRPSRPSR', 'RRRPPPSSSRRRPPPSSSRRRPPPSSSRRRPPPSSSRRRPPPSSSRRRPPPSSSRRRPPPSSSRRRPPPSSSRRRPPPSSSRRRPPRPSRPSRPSRPSRPSRPSRPSRPSRPSRPSRPSRPSRPSRPSRPSRPSRPSRPSRPSRPSRPSRPSRPSRPSRPSRPSRPSRPSRP', 'RRRPPPSSSRRRPPPSSSRRRPPPSSSRRRPPPSSSRRRPPPSSSRRRPPPSSSRRRPPPSSSRRRPPPSSSRRRPPPSSSRRRPPPRPSRPSRPSRPSRPSRPSRPSRPSRPSRPSRPSRPSRPSRPSRPSRPSRPSRPSRPSRPSRPSRPSRPSRPSRPSRPSRPSRPSRPS', 'RRRPPPSSSRRRPPPSSSRRRPPPSSSRRRPPPSSSRRRPPPSSSRRRPPPSSSRRRPPPSSSRRRPPPSSSRRRPPPSSSRRRPPPSRPSRPSRPSRPSRPSRPSRPSRPSRPSRPSRPSRPSRPSRPSRPSRPSRPSRPSRPSRPSRPSRPSRPSRPSRPSRPSRPSRPSRPSR', 'RRRPPPSSSRRRPPPSSSRRRPPPSSSRRRPPPSSSRRRPPPSSSRRRPPPSSSRRRPPPSSSRRRPPPSSSRRRPPPSSSRRRPPPSSRPSRPSRPSRPSRPSRPSRPSRPSRPSRPSRPSRPSRPSRPSRPSRPSRPSRPSRPSRPSRPSRPSRPSRPSRPSRPSRPSRPSRPSRP', 'RRRPPPSSSRRRPPPSSSRRRPPPSSSRRRPPPSSSRRRPPPSSSRRRPPPSSSRRRPPPSSSRRRPPPSSSRRRPPPSSSRRRPPPSSSRPSRPSRPSRPSRPSRPSRPSRPSRPSRPSRPSRPSRPSRPSRPSRPSRPSRPSRPSRPSRPSRPSRPSRPSRPSRPSRPSRPSRPSRPS']\n"
     ]
    }
   ],
   "source": [
    "def get_timesteps(hist):\n",
    "    op_hist = hist[: len(hist)//2]\n",
    "    pl_hist = hist[len(hist)//2 :]\n",
    "    timesteps = []\n",
    "    for i in range(length, len(op_hist) + 1):\n",
    "        timesteps.append(op_hist[:i] + pl_hist[:i])\n",
    "    return timesteps\n",
    "\n",
    "timesteps_example = get_timesteps(opponent_hist + player_hist)\n",
    "print(timesteps_example)"
   ]
  },
  {
   "cell_type": "code",
   "execution_count": 147,
   "metadata": {},
   "outputs": [
    {
     "data": {
      "text/plain": [
       "(80, 58)"
      ]
     },
     "execution_count": 147,
     "metadata": {},
     "output_type": "execute_result"
    }
   ],
   "source": [
    "def get_features_list(hist, encoded = True):\n",
    "    timesteps = get_timesteps(hist)\n",
    "    features = []\n",
    "    for timestep in timesteps:\n",
    "        features.append(get_features_from_timestep(timestep, encoded))\n",
    "    return np.array(features)\n",
    "features_list_example = get_features_list(opponent_hist + player_hist)\n",
    "features_list_example.shape"
   ]
  },
  {
   "cell_type": "code",
   "execution_count": 148,
   "metadata": {},
   "outputs": [
    {
     "data": {
      "text/plain": [
       "(80,)"
      ]
     },
     "execution_count": 148,
     "metadata": {},
     "output_type": "execute_result"
    }
   ],
   "source": [
    "def get_labels_list(hist, encoded = True):\n",
    "    timesteps = get_timesteps(hist)\n",
    "    labels = []\n",
    "    for timestep in timesteps:\n",
    "        labels.append(get_label(timestep, encoded))\n",
    "    return np.array(labels)\n",
    "labels_list_example = get_labels_list(opponent_hist + player_hist)\n",
    "labels_list_example.shape"
   ]
  },
  {
   "cell_type": "code",
   "execution_count": 149,
   "metadata": {},
   "outputs": [
    {
     "data": {
      "text/plain": [
       "(TensorShape([80, 58, 363]), TensorShape([80, 3]))"
      ]
     },
     "execution_count": 149,
     "metadata": {},
     "output_type": "execute_result"
    }
   ],
   "source": [
    "hist = opponent_hist + player_hist\n",
    "features = get_features_list(hist)\n",
    "labels = get_labels_list(hist)\n",
    "\n",
    "features_onehot = tf.one_hot(features, len(vocab))\n",
    "labels_onehot = tf.one_hot(labels, len(vocab_moves))\n",
    "\n",
    "features_onehot.shape, labels_onehot.shape"
   ]
  },
  {
   "cell_type": "code",
   "execution_count": null,
   "metadata": {},
   "outputs": [
    {
     "name": "stdout",
     "output_type": "stream",
     "text": [
      "Epoch 1/100\n",
      "\u001b[1m3/3\u001b[0m \u001b[32m━━━━━━━━━━━━━━━━━━━━\u001b[0m\u001b[37m\u001b[0m \u001b[1m4s\u001b[0m 739ms/step - Accuracy: 0.3508 - loss: 1.1036\n",
      "Epoch 2/100\n",
      "\u001b[1m3/3\u001b[0m \u001b[32m━━━━━━━━━━━━━━━━━━━━\u001b[0m\u001b[37m\u001b[0m \u001b[1m2s\u001b[0m 765ms/step - Accuracy: 0.6617 - loss: 1.3772\n",
      "Epoch 3/100\n",
      "\u001b[1m3/3\u001b[0m \u001b[32m━━━━━━━━━━━━━━━━━━━━\u001b[0m\u001b[37m\u001b[0m \u001b[1m2s\u001b[0m 736ms/step - Accuracy: 0.7602 - loss: 0.9650\n",
      "Epoch 4/100\n",
      "\u001b[1m3/3\u001b[0m \u001b[32m━━━━━━━━━━━━━━━━━━━━\u001b[0m\u001b[37m\u001b[0m \u001b[1m2s\u001b[0m 733ms/step - Accuracy: 0.7273 - loss: 0.9153\n",
      "Epoch 5/100\n",
      "\u001b[1m3/3\u001b[0m \u001b[32m━━━━━━━━━━━━━━━━━━━━\u001b[0m\u001b[37m\u001b[0m \u001b[1m2s\u001b[0m 774ms/step - Accuracy: 0.4781 - loss: 0.8446\n",
      "Epoch 6/100\n",
      "\u001b[1m3/3\u001b[0m \u001b[32m━━━━━━━━━━━━━━━━━━━━\u001b[0m\u001b[37m\u001b[0m \u001b[1m2s\u001b[0m 748ms/step - Accuracy: 0.8305 - loss: 0.6201\n",
      "Epoch 7/100\n",
      "\u001b[1m3/3\u001b[0m \u001b[32m━━━━━━━━━━━━━━━━━━━━\u001b[0m\u001b[37m\u001b[0m \u001b[1m2s\u001b[0m 734ms/step - Accuracy: 0.9734 - loss: 0.4723\n",
      "Epoch 8/100\n",
      "\u001b[1m3/3\u001b[0m \u001b[32m━━━━━━━━━━━━━━━━━━━━\u001b[0m\u001b[37m\u001b[0m \u001b[1m2s\u001b[0m 760ms/step - Accuracy: 0.5367 - loss: 2.6590\n",
      "Epoch 9/100\n",
      "\u001b[1m3/3\u001b[0m \u001b[32m━━━━━━━━━━━━━━━━━━━━\u001b[0m\u001b[37m\u001b[0m \u001b[1m2s\u001b[0m 736ms/step - Accuracy: 0.8031 - loss: 0.6479\n",
      "Epoch 10/100\n",
      "\u001b[1m3/3\u001b[0m \u001b[32m━━━━━━━━━━━━━━━━━━━━\u001b[0m\u001b[37m\u001b[0m \u001b[1m2s\u001b[0m 750ms/step - Accuracy: 0.7742 - loss: 0.5601\n",
      "Epoch 11/100\n",
      "\u001b[1m3/3\u001b[0m \u001b[32m━━━━━━━━━━━━━━━━━━━━\u001b[0m\u001b[37m\u001b[0m \u001b[1m2s\u001b[0m 742ms/step - Accuracy: 0.8562 - loss: 0.4820\n",
      "Epoch 12/100\n",
      "\u001b[1m3/3\u001b[0m \u001b[32m━━━━━━━━━━━━━━━━━━━━\u001b[0m\u001b[37m\u001b[0m \u001b[1m2s\u001b[0m 747ms/step - Accuracy: 1.0000 - loss: 0.3151\n",
      "Epoch 13/100\n",
      "\u001b[1m3/3\u001b[0m \u001b[32m━━━━━━━━━━━━━━━━━━━━\u001b[0m\u001b[37m\u001b[0m \u001b[1m2s\u001b[0m 753ms/step - Accuracy: 1.0000 - loss: 0.3263\n",
      "Epoch 14/100\n",
      "\u001b[1m3/3\u001b[0m \u001b[32m━━━━━━━━━━━━━━━━━━━━\u001b[0m\u001b[37m\u001b[0m \u001b[1m2s\u001b[0m 746ms/step - Accuracy: 1.0000 - loss: 0.1319\n",
      "Epoch 15/100\n",
      "\u001b[1m3/3\u001b[0m \u001b[32m━━━━━━━━━━━━━━━━━━━━\u001b[0m\u001b[37m\u001b[0m \u001b[1m2s\u001b[0m 774ms/step - Accuracy: 1.0000 - loss: 0.0445\n",
      "Epoch 16/100\n",
      "\u001b[1m3/3\u001b[0m \u001b[32m━━━━━━━━━━━━━━━━━━━━\u001b[0m\u001b[37m\u001b[0m \u001b[1m2s\u001b[0m 740ms/step - Accuracy: 1.0000 - loss: 0.0128\n",
      "Epoch 17/100\n",
      "\u001b[1m3/3\u001b[0m \u001b[32m━━━━━━━━━━━━━━━━━━━━\u001b[0m\u001b[37m\u001b[0m \u001b[1m2s\u001b[0m 739ms/step - Accuracy: 0.9750 - loss: 0.0469\n",
      "Epoch 18/100\n",
      "\u001b[1m3/3\u001b[0m \u001b[32m━━━━━━━━━━━━━━━━━━━━\u001b[0m\u001b[37m\u001b[0m \u001b[1m2s\u001b[0m 751ms/step - Accuracy: 0.4250 - loss: 3.2993\n",
      "Epoch 19/100\n",
      "\u001b[1m3/3\u001b[0m \u001b[32m━━━━━━━━━━━━━━━━━━━━\u001b[0m\u001b[37m\u001b[0m \u001b[1m2s\u001b[0m 750ms/step - Accuracy: 0.8797 - loss: 0.3050\n",
      "Epoch 20/100\n",
      "\u001b[1m3/3\u001b[0m \u001b[32m━━━━━━━━━━━━━━━━━━━━\u001b[0m\u001b[37m\u001b[0m \u001b[1m2s\u001b[0m 741ms/step - Accuracy: 0.6648 - loss: 0.6435\n",
      "Epoch 21/100\n",
      "\u001b[1m3/3\u001b[0m \u001b[32m━━━━━━━━━━━━━━━━━━━━\u001b[0m\u001b[37m\u001b[0m \u001b[1m2s\u001b[0m 747ms/step - Accuracy: 1.0000 - loss: 0.2568\n",
      "Epoch 22/100\n",
      "\u001b[1m3/3\u001b[0m \u001b[32m━━━━━━━━━━━━━━━━━━━━\u001b[0m\u001b[37m\u001b[0m \u001b[1m2s\u001b[0m 775ms/step - Accuracy: 1.0000 - loss: 0.2487\n",
      "Epoch 23/100\n",
      "\u001b[1m3/3\u001b[0m \u001b[32m━━━━━━━━━━━━━━━━━━━━\u001b[0m\u001b[37m\u001b[0m \u001b[1m2s\u001b[0m 795ms/step - Accuracy: 1.0000 - loss: 0.0899\n",
      "Epoch 24/100\n",
      "\u001b[1m3/3\u001b[0m \u001b[32m━━━━━━━━━━━━━━━━━━━━\u001b[0m\u001b[37m\u001b[0m \u001b[1m2s\u001b[0m 775ms/step - Accuracy: 1.0000 - loss: 0.0670\n",
      "Epoch 25/100\n",
      "\u001b[1m3/3\u001b[0m \u001b[32m━━━━━━━━━━━━━━━━━━━━\u001b[0m\u001b[37m\u001b[0m \u001b[1m2s\u001b[0m 772ms/step - Accuracy: 1.0000 - loss: 0.0250\n",
      "Epoch 26/100\n",
      "\u001b[1m3/3\u001b[0m \u001b[32m━━━━━━━━━━━━━━━━━━━━\u001b[0m\u001b[37m\u001b[0m \u001b[1m2s\u001b[0m 769ms/step - Accuracy: 1.0000 - loss: 0.0182\n",
      "Epoch 27/100\n",
      "\u001b[1m3/3\u001b[0m \u001b[32m━━━━━━━━━━━━━━━━━━━━\u001b[0m\u001b[37m\u001b[0m \u001b[1m2s\u001b[0m 771ms/step - Accuracy: 1.0000 - loss: 0.0064\n",
      "Epoch 28/100\n",
      "\u001b[1m3/3\u001b[0m \u001b[32m━━━━━━━━━━━━━━━━━━━━\u001b[0m\u001b[37m\u001b[0m \u001b[1m2s\u001b[0m 762ms/step - Accuracy: 1.0000 - loss: 0.0076\n",
      "Epoch 29/100\n",
      "\u001b[1m3/3\u001b[0m \u001b[32m━━━━━━━━━━━━━━━━━━━━\u001b[0m\u001b[37m\u001b[0m \u001b[1m3s\u001b[0m 902ms/step - Accuracy: 1.0000 - loss: 0.0038\n",
      "Epoch 30/100\n",
      "\u001b[1m3/3\u001b[0m \u001b[32m━━━━━━━━━━━━━━━━━━━━\u001b[0m\u001b[37m\u001b[0m \u001b[1m2s\u001b[0m 752ms/step - Accuracy: 1.0000 - loss: 0.0018\n",
      "Epoch 31/100\n",
      "\u001b[1m3/3\u001b[0m \u001b[32m━━━━━━━━━━━━━━━━━━━━\u001b[0m\u001b[37m\u001b[0m \u001b[1m2s\u001b[0m 748ms/step - Accuracy: 1.0000 - loss: 0.0011\n",
      "Epoch 32/100\n",
      "\u001b[1m3/3\u001b[0m \u001b[32m━━━━━━━━━━━━━━━━━━━━\u001b[0m\u001b[37m\u001b[0m \u001b[1m2s\u001b[0m 749ms/step - Accuracy: 1.0000 - loss: 8.1614e-04\n",
      "Epoch 33/100\n",
      "\u001b[1m3/3\u001b[0m \u001b[32m━━━━━━━━━━━━━━━━━━━━\u001b[0m\u001b[37m\u001b[0m \u001b[1m2s\u001b[0m 744ms/step - Accuracy: 1.0000 - loss: 6.0314e-04\n",
      "Epoch 34/100\n",
      "\u001b[1m3/3\u001b[0m \u001b[32m━━━━━━━━━━━━━━━━━━━━\u001b[0m\u001b[37m\u001b[0m \u001b[1m2s\u001b[0m 756ms/step - Accuracy: 1.0000 - loss: 5.4526e-04\n",
      "Epoch 35/100\n",
      "\u001b[1m3/3\u001b[0m \u001b[32m━━━━━━━━━━━━━━━━━━━━\u001b[0m\u001b[37m\u001b[0m \u001b[1m2s\u001b[0m 746ms/step - Accuracy: 1.0000 - loss: 4.2622e-04\n",
      "Epoch 36/100\n",
      "\u001b[1m3/3\u001b[0m \u001b[32m━━━━━━━━━━━━━━━━━━━━\u001b[0m\u001b[37m\u001b[0m \u001b[1m2s\u001b[0m 751ms/step - Accuracy: 1.0000 - loss: 3.6251e-04\n",
      "Epoch 37/100\n",
      "\u001b[1m3/3\u001b[0m \u001b[32m━━━━━━━━━━━━━━━━━━━━\u001b[0m\u001b[37m\u001b[0m \u001b[1m2s\u001b[0m 749ms/step - Accuracy: 1.0000 - loss: 2.5212e-04\n",
      "Epoch 38/100\n",
      "\u001b[1m3/3\u001b[0m \u001b[32m━━━━━━━━━━━━━━━━━━━━\u001b[0m\u001b[37m\u001b[0m \u001b[1m2s\u001b[0m 744ms/step - Accuracy: 1.0000 - loss: 2.0293e-04\n",
      "Epoch 39/100\n",
      "\u001b[1m3/3\u001b[0m \u001b[32m━━━━━━━━━━━━━━━━━━━━\u001b[0m\u001b[37m\u001b[0m \u001b[1m2s\u001b[0m 744ms/step - Accuracy: 1.0000 - loss: 1.6389e-04\n",
      "Epoch 40/100\n",
      "\u001b[1m3/3\u001b[0m \u001b[32m━━━━━━━━━━━━━━━━━━━━\u001b[0m\u001b[37m\u001b[0m \u001b[1m2s\u001b[0m 742ms/step - Accuracy: 1.0000 - loss: 1.4061e-04\n",
      "Epoch 41/100\n",
      "\u001b[1m3/3\u001b[0m \u001b[32m━━━━━━━━━━━━━━━━━━━━\u001b[0m\u001b[37m\u001b[0m \u001b[1m2s\u001b[0m 743ms/step - Accuracy: 1.0000 - loss: 1.1740e-04\n",
      "Epoch 42/100\n",
      "\u001b[1m3/3\u001b[0m \u001b[32m━━━━━━━━━━━━━━━━━━━━\u001b[0m\u001b[37m\u001b[0m \u001b[1m2s\u001b[0m 747ms/step - Accuracy: 1.0000 - loss: 1.2055e-04\n",
      "Epoch 43/100\n",
      "\u001b[1m3/3\u001b[0m \u001b[32m━━━━━━━━━━━━━━━━━━━━\u001b[0m\u001b[37m\u001b[0m \u001b[1m2s\u001b[0m 770ms/step - Accuracy: 1.0000 - loss: 1.0015e-04\n",
      "Epoch 44/100\n",
      "\u001b[1m3/3\u001b[0m \u001b[32m━━━━━━━━━━━━━━━━━━━━\u001b[0m\u001b[37m\u001b[0m \u001b[1m2s\u001b[0m 796ms/step - Accuracy: 1.0000 - loss: 9.2366e-05\n",
      "Epoch 45/100\n",
      "\u001b[1m3/3\u001b[0m \u001b[32m━━━━━━━━━━━━━━━━━━━━\u001b[0m\u001b[37m\u001b[0m \u001b[1m2s\u001b[0m 779ms/step - Accuracy: 1.0000 - loss: 8.1097e-05\n",
      "Epoch 46/100\n",
      "\u001b[1m3/3\u001b[0m \u001b[32m━━━━━━━━━━━━━━━━━━━━\u001b[0m\u001b[37m\u001b[0m \u001b[1m2s\u001b[0m 747ms/step - Accuracy: 1.0000 - loss: 8.1760e-05\n",
      "Epoch 47/100\n",
      "\u001b[1m3/3\u001b[0m \u001b[32m━━━━━━━━━━━━━━━━━━━━\u001b[0m\u001b[37m\u001b[0m \u001b[1m2s\u001b[0m 763ms/step - Accuracy: 1.0000 - loss: 7.8204e-05\n",
      "Epoch 48/100\n",
      "\u001b[1m3/3\u001b[0m \u001b[32m━━━━━━━━━━━━━━━━━━━━\u001b[0m\u001b[37m\u001b[0m \u001b[1m2s\u001b[0m 763ms/step - Accuracy: 1.0000 - loss: 7.2924e-05\n",
      "Epoch 49/100\n",
      "\u001b[1m3/3\u001b[0m \u001b[32m━━━━━━━━━━━━━━━━━━━━\u001b[0m\u001b[37m\u001b[0m \u001b[1m2s\u001b[0m 800ms/step - Accuracy: 1.0000 - loss: 6.4564e-05\n",
      "Epoch 50/100\n",
      "\u001b[1m3/3\u001b[0m \u001b[32m━━━━━━━━━━━━━━━━━━━━\u001b[0m\u001b[37m\u001b[0m \u001b[1m2s\u001b[0m 762ms/step - Accuracy: 1.0000 - loss: 7.1769e-05\n",
      "Epoch 51/100\n",
      "\u001b[1m3/3\u001b[0m \u001b[32m━━━━━━━━━━━━━━━━━━━━\u001b[0m\u001b[37m\u001b[0m \u001b[1m2s\u001b[0m 759ms/step - Accuracy: 1.0000 - loss: 6.4471e-05\n",
      "Epoch 52/100\n",
      "\u001b[1m3/3\u001b[0m \u001b[32m━━━━━━━━━━━━━━━━━━━━\u001b[0m\u001b[37m\u001b[0m \u001b[1m2s\u001b[0m 758ms/step - Accuracy: 1.0000 - loss: 7.0404e-05\n",
      "Epoch 53/100\n",
      "\u001b[1m3/3\u001b[0m \u001b[32m━━━━━━━━━━━━━━━━━━━━\u001b[0m\u001b[37m\u001b[0m \u001b[1m2s\u001b[0m 760ms/step - Accuracy: 1.0000 - loss: 5.7797e-05\n",
      "Epoch 54/100\n",
      "\u001b[1m3/3\u001b[0m \u001b[32m━━━━━━━━━━━━━━━━━━━━\u001b[0m\u001b[37m\u001b[0m \u001b[1m2s\u001b[0m 743ms/step - Accuracy: 1.0000 - loss: 5.9206e-05\n",
      "Epoch 55/100\n",
      "\u001b[1m3/3\u001b[0m \u001b[32m━━━━━━━━━━━━━━━━━━━━\u001b[0m\u001b[37m\u001b[0m \u001b[1m2s\u001b[0m 757ms/step - Accuracy: 1.0000 - loss: 5.1015e-05\n",
      "Epoch 56/100\n",
      "\u001b[1m3/3\u001b[0m \u001b[32m━━━━━━━━━━━━━━━━━━━━\u001b[0m\u001b[37m\u001b[0m \u001b[1m2s\u001b[0m 745ms/step - Accuracy: 1.0000 - loss: 5.2769e-05\n",
      "Epoch 57/100\n",
      "\u001b[1m3/3\u001b[0m \u001b[32m━━━━━━━━━━━━━━━━━━━━\u001b[0m\u001b[37m\u001b[0m \u001b[1m2s\u001b[0m 758ms/step - Accuracy: 1.0000 - loss: 5.4284e-05\n",
      "Epoch 58/100\n",
      "\u001b[1m3/3\u001b[0m \u001b[32m━━━━━━━━━━━━━━━━━━━━\u001b[0m\u001b[37m\u001b[0m \u001b[1m2s\u001b[0m 761ms/step - Accuracy: 1.0000 - loss: 5.1030e-05\n",
      "Epoch 59/100\n",
      "\u001b[1m3/3\u001b[0m \u001b[32m━━━━━━━━━━━━━━━━━━━━\u001b[0m\u001b[37m\u001b[0m \u001b[1m2s\u001b[0m 750ms/step - Accuracy: 1.0000 - loss: 4.9823e-05\n",
      "Epoch 60/100\n",
      "\u001b[1m3/3\u001b[0m \u001b[32m━━━━━━━━━━━━━━━━━━━━\u001b[0m\u001b[37m\u001b[0m \u001b[1m2s\u001b[0m 777ms/step - Accuracy: 1.0000 - loss: 5.2325e-05\n",
      "Epoch 61/100\n",
      "\u001b[1m3/3\u001b[0m \u001b[32m━━━━━━━━━━━━━━━━━━━━\u001b[0m\u001b[37m\u001b[0m \u001b[1m2s\u001b[0m 754ms/step - Accuracy: 1.0000 - loss: 5.1753e-05\n",
      "Epoch 62/100\n",
      "\u001b[1m3/3\u001b[0m \u001b[32m━━━━━━━━━━━━━━━━━━━━\u001b[0m\u001b[37m\u001b[0m \u001b[1m2s\u001b[0m 798ms/step - Accuracy: 1.0000 - loss: 4.5029e-05\n",
      "Epoch 63/100\n",
      "\u001b[1m3/3\u001b[0m \u001b[32m━━━━━━━━━━━━━━━━━━━━\u001b[0m\u001b[37m\u001b[0m \u001b[1m2s\u001b[0m 800ms/step - Accuracy: 1.0000 - loss: 4.0119e-05\n",
      "Epoch 64/100\n",
      "\u001b[1m3/3\u001b[0m \u001b[32m━━━━━━━━━━━━━━━━━━━━\u001b[0m\u001b[37m\u001b[0m \u001b[1m3s\u001b[0m 984ms/step - Accuracy: 1.0000 - loss: 4.7896e-05\n",
      "Epoch 65/100\n",
      "\u001b[1m3/3\u001b[0m \u001b[32m━━━━━━━━━━━━━━━━━━━━\u001b[0m\u001b[37m\u001b[0m \u001b[1m3s\u001b[0m 832ms/step - Accuracy: 1.0000 - loss: 4.1594e-05\n",
      "Epoch 66/100\n",
      "\u001b[1m3/3\u001b[0m \u001b[32m━━━━━━━━━━━━━━━━━━━━\u001b[0m\u001b[37m\u001b[0m \u001b[1m2s\u001b[0m 790ms/step - Accuracy: 1.0000 - loss: 4.6687e-05\n",
      "Epoch 67/100\n",
      "\u001b[1m3/3\u001b[0m \u001b[32m━━━━━━━━━━━━━━━━━━━━\u001b[0m\u001b[37m\u001b[0m \u001b[1m2s\u001b[0m 796ms/step - Accuracy: 1.0000 - loss: 4.3060e-05\n",
      "Epoch 68/100\n",
      "\u001b[1m3/3\u001b[0m \u001b[32m━━━━━━━━━━━━━━━━━━━━\u001b[0m\u001b[37m\u001b[0m \u001b[1m2s\u001b[0m 770ms/step - Accuracy: 1.0000 - loss: 3.7292e-05\n",
      "Epoch 69/100\n",
      "\u001b[1m3/3\u001b[0m \u001b[32m━━━━━━━━━━━━━━━━━━━━\u001b[0m\u001b[37m\u001b[0m \u001b[1m3s\u001b[0m 844ms/step - Accuracy: 1.0000 - loss: 4.2755e-05\n",
      "Epoch 70/100\n",
      "\u001b[1m3/3\u001b[0m \u001b[32m━━━━━━━━━━━━━━━━━━━━\u001b[0m\u001b[37m\u001b[0m \u001b[1m3s\u001b[0m 844ms/step - Accuracy: 1.0000 - loss: 3.6488e-05\n",
      "Epoch 71/100\n",
      "\u001b[1m3/3\u001b[0m \u001b[32m━━━━━━━━━━━━━━━━━━━━\u001b[0m\u001b[37m\u001b[0m \u001b[1m3s\u001b[0m 812ms/step - Accuracy: 1.0000 - loss: 3.3516e-05\n",
      "Epoch 72/100\n",
      "\u001b[1m3/3\u001b[0m \u001b[32m━━━━━━━━━━━━━━━━━━━━\u001b[0m\u001b[37m\u001b[0m \u001b[1m2s\u001b[0m 789ms/step - Accuracy: 1.0000 - loss: 3.3577e-05\n",
      "Epoch 73/100\n",
      "\u001b[1m3/3\u001b[0m \u001b[32m━━━━━━━━━━━━━━━━━━━━\u001b[0m\u001b[37m\u001b[0m \u001b[1m3s\u001b[0m 888ms/step - Accuracy: 1.0000 - loss: 3.7794e-05\n",
      "Epoch 74/100\n",
      "\u001b[1m3/3\u001b[0m \u001b[32m━━━━━━━━━━━━━━━━━━━━\u001b[0m\u001b[37m\u001b[0m \u001b[1m2s\u001b[0m 749ms/step - Accuracy: 1.0000 - loss: 3.3681e-05\n",
      "Epoch 75/100\n",
      "\u001b[1m3/3\u001b[0m \u001b[32m━━━━━━━━━━━━━━━━━━━━\u001b[0m\u001b[37m\u001b[0m \u001b[1m2s\u001b[0m 750ms/step - Accuracy: 1.0000 - loss: 3.3180e-05\n",
      "Epoch 76/100\n",
      "\u001b[1m3/3\u001b[0m \u001b[32m━━━━━━━━━━━━━━━━━━━━\u001b[0m\u001b[37m\u001b[0m \u001b[1m2s\u001b[0m 810ms/step - Accuracy: 1.0000 - loss: 3.6759e-05\n",
      "Epoch 77/100\n",
      "\u001b[1m3/3\u001b[0m \u001b[32m━━━━━━━━━━━━━━━━━━━━\u001b[0m\u001b[37m\u001b[0m \u001b[1m2s\u001b[0m 771ms/step - Accuracy: 1.0000 - loss: 3.3740e-05\n",
      "Epoch 78/100\n",
      "\u001b[1m3/3\u001b[0m \u001b[32m━━━━━━━━━━━━━━━━━━━━\u001b[0m\u001b[37m\u001b[0m \u001b[1m2s\u001b[0m 757ms/step - Accuracy: 1.0000 - loss: 3.1704e-05\n",
      "Epoch 79/100\n",
      "\u001b[1m3/3\u001b[0m \u001b[32m━━━━━━━━━━━━━━━━━━━━\u001b[0m\u001b[37m\u001b[0m \u001b[1m2s\u001b[0m 784ms/step - Accuracy: 1.0000 - loss: 3.1024e-05\n",
      "Epoch 80/100\n",
      "\u001b[1m3/3\u001b[0m \u001b[32m━━━━━━━━━━━━━━━━━━━━\u001b[0m\u001b[37m\u001b[0m \u001b[1m2s\u001b[0m 763ms/step - Accuracy: 1.0000 - loss: 3.4540e-05\n",
      "Epoch 81/100\n",
      "\u001b[1m3/3\u001b[0m \u001b[32m━━━━━━━━━━━━━━━━━━━━\u001b[0m\u001b[37m\u001b[0m \u001b[1m2s\u001b[0m 794ms/step - Accuracy: 1.0000 - loss: 2.9509e-05\n",
      "Epoch 82/100\n",
      "\u001b[1m3/3\u001b[0m \u001b[32m━━━━━━━━━━━━━━━━━━━━\u001b[0m\u001b[37m\u001b[0m \u001b[1m2s\u001b[0m 793ms/step - Accuracy: 1.0000 - loss: 2.9714e-05\n",
      "Epoch 83/100\n",
      "\u001b[1m3/3\u001b[0m \u001b[32m━━━━━━━━━━━━━━━━━━━━\u001b[0m\u001b[37m\u001b[0m \u001b[1m2s\u001b[0m 777ms/step - Accuracy: 1.0000 - loss: 3.3305e-05\n",
      "Epoch 84/100\n",
      "\u001b[1m3/3\u001b[0m \u001b[32m━━━━━━━━━━━━━━━━━━━━\u001b[0m\u001b[37m\u001b[0m \u001b[1m2s\u001b[0m 772ms/step - Accuracy: 1.0000 - loss: 2.8911e-05\n",
      "Epoch 85/100\n",
      "\u001b[1m3/3\u001b[0m \u001b[32m━━━━━━━━━━━━━━━━━━━━\u001b[0m\u001b[37m\u001b[0m \u001b[1m2s\u001b[0m 767ms/step - Accuracy: 1.0000 - loss: 2.7578e-05\n",
      "Epoch 86/100\n",
      "\u001b[1m3/3\u001b[0m \u001b[32m━━━━━━━━━━━━━━━━━━━━\u001b[0m\u001b[37m\u001b[0m \u001b[1m2s\u001b[0m 756ms/step - Accuracy: 1.0000 - loss: 2.7449e-05\n",
      "Epoch 87/100\n",
      "\u001b[1m3/3\u001b[0m \u001b[32m━━━━━━━━━━━━━━━━━━━━\u001b[0m\u001b[37m\u001b[0m \u001b[1m2s\u001b[0m 774ms/step - Accuracy: 1.0000 - loss: 2.6977e-05\n",
      "Epoch 88/100\n",
      "\u001b[1m3/3\u001b[0m \u001b[32m━━━━━━━━━━━━━━━━━━━━\u001b[0m\u001b[37m\u001b[0m \u001b[1m2s\u001b[0m 785ms/step - Accuracy: 1.0000 - loss: 2.7793e-05\n",
      "Epoch 89/100\n",
      "\u001b[1m3/3\u001b[0m \u001b[32m━━━━━━━━━━━━━━━━━━━━\u001b[0m\u001b[37m\u001b[0m \u001b[1m2s\u001b[0m 753ms/step - Accuracy: 1.0000 - loss: 2.6126e-05\n",
      "Epoch 90/100\n",
      "\u001b[1m3/3\u001b[0m \u001b[32m━━━━━━━━━━━━━━━━━━━━\u001b[0m\u001b[37m\u001b[0m \u001b[1m3s\u001b[0m 810ms/step - Accuracy: 1.0000 - loss: 2.5850e-05\n",
      "Epoch 91/100\n",
      "\u001b[1m3/3\u001b[0m \u001b[32m━━━━━━━━━━━━━━━━━━━━\u001b[0m\u001b[37m\u001b[0m \u001b[1m2s\u001b[0m 771ms/step - Accuracy: 1.0000 - loss: 2.4540e-05\n",
      "Epoch 92/100\n",
      "\u001b[1m3/3\u001b[0m \u001b[32m━━━━━━━━━━━━━━━━━━━━\u001b[0m\u001b[37m\u001b[0m \u001b[1m2s\u001b[0m 785ms/step - Accuracy: 1.0000 - loss: 2.6420e-05\n",
      "Epoch 93/100\n",
      "\u001b[1m3/3\u001b[0m \u001b[32m━━━━━━━━━━━━━━━━━━━━\u001b[0m\u001b[37m\u001b[0m \u001b[1m2s\u001b[0m 771ms/step - Accuracy: 1.0000 - loss: 2.6380e-05\n",
      "Epoch 94/100\n",
      "\u001b[1m3/3\u001b[0m \u001b[32m━━━━━━━━━━━━━━━━━━━━\u001b[0m\u001b[37m\u001b[0m \u001b[1m3s\u001b[0m 997ms/step - Accuracy: 1.0000 - loss: 2.3458e-05\n",
      "Epoch 95/100\n",
      "\u001b[1m3/3\u001b[0m \u001b[32m━━━━━━━━━━━━━━━━━━━━\u001b[0m\u001b[37m\u001b[0m \u001b[1m3s\u001b[0m 890ms/step - Accuracy: 1.0000 - loss: 2.3266e-05\n",
      "Epoch 96/100\n",
      "\u001b[1m3/3\u001b[0m \u001b[32m━━━━━━━━━━━━━━━━━━━━\u001b[0m\u001b[37m\u001b[0m \u001b[1m3s\u001b[0m 875ms/step - Accuracy: 1.0000 - loss: 2.4238e-05\n",
      "Epoch 97/100\n",
      "\u001b[1m3/3\u001b[0m \u001b[32m━━━━━━━━━━━━━━━━━━━━\u001b[0m\u001b[37m\u001b[0m \u001b[1m2s\u001b[0m 809ms/step - Accuracy: 1.0000 - loss: 2.2119e-05\n",
      "Epoch 98/100\n",
      "\u001b[1m3/3\u001b[0m \u001b[32m━━━━━━━━━━━━━━━━━━━━\u001b[0m\u001b[37m\u001b[0m \u001b[1m3s\u001b[0m 813ms/step - Accuracy: 1.0000 - loss: 2.0576e-05\n",
      "Epoch 99/100\n",
      "\u001b[1m3/3\u001b[0m \u001b[32m━━━━━━━━━━━━━━━━━━━━\u001b[0m\u001b[37m\u001b[0m \u001b[1m2s\u001b[0m 781ms/step - Accuracy: 1.0000 - loss: 2.4369e-05\n",
      "Epoch 100/100\n",
      "\u001b[1m3/3\u001b[0m \u001b[32m━━━━━━━━━━━━━━━━━━━━\u001b[0m\u001b[37m\u001b[0m \u001b[1m2s\u001b[0m 752ms/step - Accuracy: 1.0000 - loss: 2.5889e-05\n"
     ]
    }
   ],
   "source": [
    "model = tf.keras.Sequential([\n",
    "    layers.LSTM(1024, input_shape=(features_onehot.shape[1], features_onehot.shape[2])),\n",
    "    layers.Dense(1024, activation='relu'),\n",
    "    layers.Dense(labels_onehot.shape[1], activation='softmax')\n",
    "])\n",
    "\n",
    "model.compile(loss='CategoricalCrossentropy',\n",
    "            optimizer='adam',\n",
    "            metrics=['Accuracy'])\n",
    "\n",
    "history = model.fit(\n",
    "    features_onehot,\n",
    "    labels_onehot,\n",
    "    epochs=100)"
   ]
  },
  {
   "cell_type": "code",
   "execution_count": 152,
   "metadata": {},
   "outputs": [
    {
     "name": "stdout",
     "output_type": "stream",
     "text": [
      "RRRPPPSSSRRRPPPSSSRRRPPPSSSRRRPPPSSSRRRPPPSSSRRRPPPSSSRRRPPPSSSRRRPPPSSSRRRPPPSSSRRRPPPSSSPPPPPPPPPPPPPPPPPPPPPPPPPPPPPPPPPPPPPPPPPPPPPPPPPPPPPPPPPPPPPPPPPPPPPPPPPPPPPPPPPPPPPPPPPP\n",
      "[2, 2, 2, 0, 0, 0, 1, 1, 1, 2, 0, 0, 0, 0, 0, 0, 0, 0, 0, 0, 1, 0, 2, 2, 0, 0, 11, 38, 65, 146, 3, 12, 39, 120, 11, 3, 14, 25, 47, 47, 146, 146, 3, 3, 12, 12, 39, 39, 120, 120, 3, 25, 47, 146, 3, 12, 39, 120]\n",
      "\u001b[1m1/1\u001b[0m \u001b[32m━━━━━━━━━━━━━━━━━━━━\u001b[0m\u001b[37m\u001b[0m \u001b[1m0s\u001b[0m 92ms/step\n",
      "[[1.5839889e-06 9.9999797e-01 4.7292127e-07]]\n"
     ]
    },
    {
     "data": {
      "text/plain": [
       "('R', 1.0)"
      ]
     },
     "execution_count": 152,
     "metadata": {},
     "output_type": "execute_result"
    }
   ],
   "source": [
    "def predict(opponent, player):\n",
    "    # input: opponent and player histories\n",
    "    # output: predicted output and it's probability\n",
    "    m = min(len(opponent), len(player)) #if the inputs have different lengths, 'm' is the smaller length,\n",
    "    seq = opponent[-m :] + player[-m :] #only use the last 'm' plays of each player\n",
    "    print(seq)\n",
    "    features = get_features(seq) #get features for the last 'm' plays\n",
    "    print(features)\n",
    "    features_onehot = tf.one_hot([features], len(vocab)) #one-hot encode the features\n",
    "\n",
    "    pred = model.predict(features_onehot) #run the prediction. Return list of probabilities for next char\n",
    "    print(pred)\n",
    "    idx = np.argmax(pred) #idx of the char with max probability, equal to the integer encoding for the chars\n",
    "    return int_to_text([idx]), round(float(pred[0][idx]), 2) #predicted char, probability\n",
    "\n",
    "predict('RRRPPPSSS'*10, 'PPPPPPPPP'*10)"
   ]
  }
 ],
 "metadata": {
  "kernelspec": {
   "display_name": ".venvTF",
   "language": "python",
   "name": "python3"
  },
  "language_info": {
   "codemirror_mode": {
    "name": "ipython",
    "version": 3
   },
   "file_extension": ".py",
   "mimetype": "text/x-python",
   "name": "python",
   "nbconvert_exporter": "python",
   "pygments_lexer": "ipython3",
   "version": "3.12.7"
  }
 },
 "nbformat": 4,
 "nbformat_minor": 2
}
